{
 "cells": [
  {
   "cell_type": "code",
   "execution_count": 1,
   "metadata": {},
   "outputs": [
    {
     "data": {
      "text/plain": [
       "True"
      ]
     },
     "execution_count": 1,
     "metadata": {},
     "output_type": "execute_result"
    }
   ],
   "source": [
    "import numpy as np\n",
    "import json\n",
    "import praw\n",
    "import os\n",
    "from dotenv import load_dotenv\n",
    "load_dotenv()"
   ]
  },
  {
   "cell_type": "code",
   "execution_count": 2,
   "metadata": {},
   "outputs": [],
   "source": [
    "user_agent = \"Scraper 1.0 by /u/MajesticPanic8917\"\n",
    "reddit = praw.Reddit(\n",
    "    client_id = os.environ['REDDIT_ID'] ,\n",
    "    client_secret = os.environ['REDDIT_SECRET'] , \n",
    "    user_agent = user_agent\n",
    ")"
   ]
  },
  {
   "cell_type": "code",
   "execution_count": 3,
   "metadata": {},
   "outputs": [
    {
     "name": "stdout",
     "output_type": "stream",
     "text": [
      "Which celebrity looks like they smell bad?\n",
      "I always thought Larry King seems like he had the worst breath imaginable\n",
      "0\n"
     ]
    }
   ],
   "source": [
    "#Testing the API\n",
    "\n",
    "submissions = reddit.subreddit('AskReddit').hot(limit=1)\n",
    "for submission in submissions:\n",
    "    print(submission.title)\n",
    "    for comment in submission.comments:\n",
    "        print(comment.body)\n",
    "        break"
   ]
  },
  {
   "cell_type": "code",
   "execution_count": null,
   "metadata": {},
   "outputs": [],
   "source": [
    "#Recursive function for extracting the tree from commentforest\n",
    "\n",
    "def build_tree(comments):\n",
    "    tree = []\n",
    "    for comment in comments:\n",
    "        # Add the comment to the tree\n",
    "        print(comment.body)\n",
    "        tree.append({\"id\": comment.id, \"body\": comment.body, \"replies\": []})\n",
    "        # Recursively build the tree for the replies to this comment\n",
    "        if comment.replies:\n",
    "            tree[-1][\"replies\"] = build_tree(comment.replies)\n",
    "    return tree\n"
   ]
  },
  {
   "cell_type": "code",
   "execution_count": null,
   "metadata": {},
   "outputs": [],
   "source": [
    "tree= []\n",
    "\n",
    "#Extracting Comment trees for all the post on a subreddit\n",
    "#To change number of posts to be parsed cange the limit\n",
    "\n",
    "submissions = reddit.subreddit('AskReddit').hot(limit=1)\n",
    "for submission in submissions:\n",
    "    print(submission.title)\n",
    "    submission.comments.replace_more(limit=None)\n",
    "    \n",
    "    tree_submission = build_tree(submission.comments)\n",
    "    \n",
    "    tree.append({\"Submission\" : submission.title , \"comments\" : tree_submission})"
   ]
  },
  {
   "cell_type": "code",
   "execution_count": null,
   "metadata": {},
   "outputs": [],
   "source": [
    "tree"
   ]
  },
  {
   "cell_type": "code",
   "execution_count": null,
   "metadata": {},
   "outputs": [],
   "source": [
    "import json\n",
    "json_data = json.dumps(tree)\n",
    "\n",
    "# Save the JSON string to a file\n",
    "with open(\"comments.json\", \"w\") as f:\n",
    "    f.write(json_data)"
   ]
  }
 ],
 "metadata": {
  "kernelspec": {
   "display_name": "Python 3",
   "language": "python",
   "name": "python3"
  },
  "language_info": {
   "codemirror_mode": {
    "name": "ipython",
    "version": 3
   },
   "file_extension": ".py",
   "mimetype": "text/x-python",
   "name": "python",
   "nbconvert_exporter": "python",
   "pygments_lexer": "ipython3",
   "version": "3.10.2 (tags/v3.10.2:a58ebcc, Jan 17 2022, 14:12:15) [MSC v.1929 64 bit (AMD64)]"
  },
  "orig_nbformat": 4,
  "vscode": {
   "interpreter": {
    "hash": "369f2c481f4da34e4445cda3fffd2e751bd1c4d706f27375911949ba6bb62e1c"
   }
  }
 },
 "nbformat": 4,
 "nbformat_minor": 2
}
